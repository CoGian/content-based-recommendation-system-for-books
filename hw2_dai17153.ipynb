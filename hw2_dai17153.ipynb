{
 "cells": [
  {
   "cell_type": "code",
   "execution_count": 1,
   "metadata": {},
   "outputs": [
    {
     "name": "stderr",
     "output_type": "stream",
     "text": [
      "[nltk_data] Downloading package punkt to\n",
      "[nltk_data]     C:\\Users\\kwgi\\AppData\\Roaming\\nltk_data...\n",
      "[nltk_data]   Package punkt is already up-to-date!\n",
      "[nltk_data] Downloading package stopwords to\n",
      "[nltk_data]     C:\\Users\\kwgi\\AppData\\Roaming\\nltk_data...\n",
      "[nltk_data]   Package stopwords is already up-to-date!\n",
      "[nltk_data] Downloading package wordnet to\n",
      "[nltk_data]     C:\\Users\\kwgi\\AppData\\Roaming\\nltk_data...\n",
      "[nltk_data]   Package wordnet is already up-to-date!\n"
     ]
    }
   ],
   "source": [
    "import pandas as pd\n",
    "import numpy as np\n",
    "import nltk\n",
    "nltk.download('punkt')\n",
    "nltk.download('stopwords')\n",
    "nltk.download('wordnet')\n",
    "import string\n",
    "import csv\n",
    "from nltk.corpus import stopwords \n",
    "from nltk.tokenize import  word_tokenize\n",
    "from nltk.stem import WordNetLemmatizer\n",
    "from nltk.stem import PorterStemmer\n",
    "from py_stringmatching import  OverlapCoefficient\n",
    "from py_stringmatching import  Dice\n",
    "from py_stringmatching import  Jaccard"
   ]
  },
  {
   "cell_type": "markdown",
   "metadata": {},
   "source": [
    "Αρχικά θα διαβάσουμε τα αρχεία και θα τα μετατρέψουμε σε dataframes ελέγχοντας για null τιμές και τα μεγέθη των dataframes.Η κωδικοποίηση για το διάβασμα όλων των αρχείων θα είναι cp437 γιατί η utf8 μου έβγαζε error."
   ]
  },
  {
   "cell_type": "code",
   "execution_count": 2,
   "metadata": {},
   "outputs": [
    {
     "name": "stdout",
     "output_type": "stream",
     "text": [
      "User-ID     False\n",
      "Location    False\n",
      "Age          True\n",
      "dtype: bool\n",
      "(278858, 3)\n"
     ]
    },
    {
     "data": {
      "text/html": [
       "<div>\n",
       "<style scoped>\n",
       "    .dataframe tbody tr th:only-of-type {\n",
       "        vertical-align: middle;\n",
       "    }\n",
       "\n",
       "    .dataframe tbody tr th {\n",
       "        vertical-align: top;\n",
       "    }\n",
       "\n",
       "    .dataframe thead th {\n",
       "        text-align: right;\n",
       "    }\n",
       "</style>\n",
       "<table border=\"1\" class=\"dataframe\">\n",
       "  <thead>\n",
       "    <tr style=\"text-align: right;\">\n",
       "      <th></th>\n",
       "      <th>User-ID</th>\n",
       "      <th>Location</th>\n",
       "      <th>Age</th>\n",
       "    </tr>\n",
       "  </thead>\n",
       "  <tbody>\n",
       "    <tr>\n",
       "      <td>0</td>\n",
       "      <td>1</td>\n",
       "      <td>nyc, new york, usa</td>\n",
       "      <td>NaN</td>\n",
       "    </tr>\n",
       "    <tr>\n",
       "      <td>1</td>\n",
       "      <td>2</td>\n",
       "      <td>stockton, california, usa</td>\n",
       "      <td>18.0</td>\n",
       "    </tr>\n",
       "    <tr>\n",
       "      <td>2</td>\n",
       "      <td>3</td>\n",
       "      <td>moscow, yukon territory, russia</td>\n",
       "      <td>NaN</td>\n",
       "    </tr>\n",
       "    <tr>\n",
       "      <td>3</td>\n",
       "      <td>4</td>\n",
       "      <td>porto, v.n.gaia, portugal</td>\n",
       "      <td>17.0</td>\n",
       "    </tr>\n",
       "    <tr>\n",
       "      <td>4</td>\n",
       "      <td>5</td>\n",
       "      <td>farnborough, hants, united kingdom</td>\n",
       "      <td>NaN</td>\n",
       "    </tr>\n",
       "  </tbody>\n",
       "</table>\n",
       "</div>"
      ],
      "text/plain": [
       "   User-ID                            Location   Age\n",
       "0        1                  nyc, new york, usa   NaN\n",
       "1        2           stockton, california, usa  18.0\n",
       "2        3     moscow, yukon territory, russia   NaN\n",
       "3        4           porto, v.n.gaia, portugal  17.0\n",
       "4        5  farnborough, hants, united kingdom   NaN"
      ]
     },
     "execution_count": 2,
     "metadata": {},
     "output_type": "execute_result"
    }
   ],
   "source": [
    "# load users and print first 5  users\n",
    "users = pd.read_csv('BX-Users.csv',low_memory=False,sep=';',encoding='cp437')\n",
    "print(users.isna().any())\n",
    "print(users.shape)\n",
    "users.head()"
   ]
  },
  {
   "cell_type": "markdown",
   "metadata": {},
   "source": [
    "Παραπάνω δεν μας πειράζει που υπάρχουν null τιμές στην στήλη \"Age\".\n",
    "Σε αυτό το σημείο χρειάζεται η υλοποίηση μιας μεθόδου που θα απομακρύνει κυρίως από τον τίτλο του βιβλίου κάποια σύμβολα που μπερδεύουν το pandas στην δημιουργία το dataframe books.Ο συνδυασμός συμβόλων επιλέχθηκαν εμπειρικά για να αφαιρεθούν."
   ]
  },
  {
   "cell_type": "code",
   "execution_count": 3,
   "metadata": {},
   "outputs": [],
   "source": [
    "# transforming file BX-Books.csv to the right format for csv and pandas\n",
    "def transformCSV(inputfile,outputfile):\n",
    "    with open(inputfile,encoding='cp437') as fp1,open(outputfile,'w',encoding='cp437') as fp2:\n",
    "        line = fp1.readline()\n",
    "        while line:\n",
    "            if '&amp;' in line:\n",
    "                line= line.replace('&amp;',' ')\n",
    "            if ';\\\\' in line: \n",
    "                 line= line.replace(';\\\\',' ')\n",
    "            if '\"; ' in line: \n",
    "                 line= line.replace(\"'; \\'\",' ')  \n",
    "            if ' ; '  in line: \n",
    "                 line= line.replace(' ; ',' ')  \n",
    "            if '\"; '  in line: \n",
    "                 line= line.replace('\"; ',' ')  \n",
    "            fp2.write(line)\n",
    "            line = fp1.readline()"
   ]
  },
  {
   "cell_type": "code",
   "execution_count": 4,
   "metadata": {},
   "outputs": [
    {
     "name": "stdout",
     "output_type": "stream",
     "text": [
      "(271379, 4)\n",
      "ISBN                   False\n",
      "Book-Title             False\n",
      "Book-Author             True\n",
      "Year-Of-Publication    False\n",
      "dtype: bool\n"
     ]
    },
    {
     "data": {
      "text/html": [
       "<div>\n",
       "<style scoped>\n",
       "    .dataframe tbody tr th:only-of-type {\n",
       "        vertical-align: middle;\n",
       "    }\n",
       "\n",
       "    .dataframe tbody tr th {\n",
       "        vertical-align: top;\n",
       "    }\n",
       "\n",
       "    .dataframe thead th {\n",
       "        text-align: right;\n",
       "    }\n",
       "</style>\n",
       "<table border=\"1\" class=\"dataframe\">\n",
       "  <thead>\n",
       "    <tr style=\"text-align: right;\">\n",
       "      <th></th>\n",
       "      <th>ISBN</th>\n",
       "      <th>Book-Title</th>\n",
       "      <th>Book-Author</th>\n",
       "      <th>Year-Of-Publication</th>\n",
       "    </tr>\n",
       "  </thead>\n",
       "  <tbody>\n",
       "    <tr>\n",
       "      <td>0</td>\n",
       "      <td>0195153448</td>\n",
       "      <td>Classical Mythology</td>\n",
       "      <td>Mark P. O. Morford</td>\n",
       "      <td>2002</td>\n",
       "    </tr>\n",
       "    <tr>\n",
       "      <td>1</td>\n",
       "      <td>0002005018</td>\n",
       "      <td>Clara Callan</td>\n",
       "      <td>Richard Bruce Wright</td>\n",
       "      <td>2001</td>\n",
       "    </tr>\n",
       "    <tr>\n",
       "      <td>2</td>\n",
       "      <td>0060973129</td>\n",
       "      <td>Decision in Normandy</td>\n",
       "      <td>Carlo D'Este</td>\n",
       "      <td>1991</td>\n",
       "    </tr>\n",
       "    <tr>\n",
       "      <td>3</td>\n",
       "      <td>0374157065</td>\n",
       "      <td>Flu: The Story of the Great Influenza Pandemic...</td>\n",
       "      <td>Gina Bari Kolata</td>\n",
       "      <td>1999</td>\n",
       "    </tr>\n",
       "    <tr>\n",
       "      <td>4</td>\n",
       "      <td>0393045218</td>\n",
       "      <td>The Mummies of Urumchi</td>\n",
       "      <td>E. J. W. Barber</td>\n",
       "      <td>1999</td>\n",
       "    </tr>\n",
       "  </tbody>\n",
       "</table>\n",
       "</div>"
      ],
      "text/plain": [
       "         ISBN                                         Book-Title  \\\n",
       "0  0195153448                                Classical Mythology   \n",
       "1  0002005018                                       Clara Callan   \n",
       "2  0060973129                               Decision in Normandy   \n",
       "3  0374157065  Flu: The Story of the Great Influenza Pandemic...   \n",
       "4  0393045218                             The Mummies of Urumchi   \n",
       "\n",
       "            Book-Author Year-Of-Publication  \n",
       "0    Mark P. O. Morford                2002  \n",
       "1  Richard Bruce Wright                2001  \n",
       "2          Carlo D'Este                1991  \n",
       "3      Gina Bari Kolata                1999  \n",
       "4       E. J. W. Barber                1999  "
      ]
     },
     "execution_count": 4,
     "metadata": {},
     "output_type": "execute_result"
    }
   ],
   "source": [
    "# transforming file BX-Book-Ratings.csv to the right format for csv and pandas\n",
    "transformCSV('BX-Books.csv','BX-Books-r.csv')\n",
    "# load books print first 5 books and print first 5 books\n",
    "books = pd.read_csv('BX-Books-r.csv',error_bad_lines=False, low_memory=False,sep=';',encoding='cp437')\n",
    "# get rid off unnecessary columns \n",
    "books = books[['ISBN','Book-Title','Book-Author','Year-Of-Publication']]\n",
    "print(books.shape)\n",
    "print(books.isna().any())\n",
    "books.head()"
   ]
  },
  {
   "cell_type": "markdown",
   "metadata": {},
   "source": [
    "Παραπάνω δεν μας πειράζει που υπάρχουν null τιμές στην στήλη \"Book-Author\"."
   ]
  },
  {
   "cell_type": "code",
   "execution_count": 5,
   "metadata": {},
   "outputs": [
    {
     "name": "stdout",
     "output_type": "stream",
     "text": [
      "(1149780, 3)\n",
      "User-ID        False\n",
      "ISBN           False\n",
      "Book-Rating    False\n",
      "dtype: bool\n"
     ]
    },
    {
     "data": {
      "text/html": [
       "<div>\n",
       "<style scoped>\n",
       "    .dataframe tbody tr th:only-of-type {\n",
       "        vertical-align: middle;\n",
       "    }\n",
       "\n",
       "    .dataframe tbody tr th {\n",
       "        vertical-align: top;\n",
       "    }\n",
       "\n",
       "    .dataframe thead th {\n",
       "        text-align: right;\n",
       "    }\n",
       "</style>\n",
       "<table border=\"1\" class=\"dataframe\">\n",
       "  <thead>\n",
       "    <tr style=\"text-align: right;\">\n",
       "      <th></th>\n",
       "      <th>User-ID</th>\n",
       "      <th>ISBN</th>\n",
       "      <th>Book-Rating</th>\n",
       "    </tr>\n",
       "  </thead>\n",
       "  <tbody>\n",
       "    <tr>\n",
       "      <td>0</td>\n",
       "      <td>276725</td>\n",
       "      <td>034545104X</td>\n",
       "      <td>0</td>\n",
       "    </tr>\n",
       "    <tr>\n",
       "      <td>1</td>\n",
       "      <td>276726</td>\n",
       "      <td>0155061224</td>\n",
       "      <td>5</td>\n",
       "    </tr>\n",
       "    <tr>\n",
       "      <td>2</td>\n",
       "      <td>276727</td>\n",
       "      <td>0446520802</td>\n",
       "      <td>0</td>\n",
       "    </tr>\n",
       "    <tr>\n",
       "      <td>3</td>\n",
       "      <td>276729</td>\n",
       "      <td>052165615X</td>\n",
       "      <td>3</td>\n",
       "    </tr>\n",
       "    <tr>\n",
       "      <td>4</td>\n",
       "      <td>276729</td>\n",
       "      <td>0521795028</td>\n",
       "      <td>6</td>\n",
       "    </tr>\n",
       "  </tbody>\n",
       "</table>\n",
       "</div>"
      ],
      "text/plain": [
       "   User-ID        ISBN  Book-Rating\n",
       "0   276725  034545104X            0\n",
       "1   276726  0155061224            5\n",
       "2   276727  0446520802            0\n",
       "3   276729  052165615X            3\n",
       "4   276729  0521795028            6"
      ]
     },
     "execution_count": 5,
     "metadata": {},
     "output_type": "execute_result"
    }
   ],
   "source": [
    "# load ratings and print first 5 ratings \n",
    "ratings = pd.read_csv('BX-Book-Ratings.csv',low_memory=False,sep=';',encoding='cp437')\n",
    "print(ratings.shape)\n",
    "print(ratings.isna().any())\n",
    "ratings.head()"
   ]
  },
  {
   "cell_type": "markdown",
   "metadata": {},
   "source": [
    "Μέσω μελέτης των δεδομένων παρατήρησα πως υπάρχουν κάποια ratings για βιβλία που δεν υπάρχουν για αυτό το λόγο αφαιρώ αυτά τα ratings και ελέγχω αν συμβαίνει το ίδιο και για τους χρήστες."
   ]
  },
  {
   "cell_type": "code",
   "execution_count": 6,
   "metadata": {},
   "outputs": [
    {
     "name": "stdout",
     "output_type": "stream",
     "text": [
      "Pruned ratings size:  (1031175, 3)\n",
      "Pruned ratings size:  (1031175, 3)\n"
     ]
    }
   ],
   "source": [
    "# prune ratings with books that don't exist \n",
    "ratings = ratings.merge(books[['ISBN']], how = 'inner' , on = 'ISBN' )\n",
    "print('Pruned ratings size: ' , ratings.shape)\n",
    "# prune ratings with users that don't exist \n",
    "ratings = ratings.merge(users[['User-ID']], how = 'inner' , on = 'User-ID' )\n",
    "print('Pruned ratings size: ' , ratings.shape)"
   ]
  },
  {
   "cell_type": "markdown",
   "metadata": {},
   "source": [
    "Όπως φαίνεται η παραπάνω υπόθεση που κάναμε ισχύει μόνο για τα βιβλία. Στην συνέχεια αφαιρούνται όλα τα βιβλία που έχουν λιγότερες από 10 βαθμολογίες και όλους οι χρήστες που έχουν βαθμολογήσει λιγότερα από 5 βιβλία η διαδικασία επαναλαμβάνεται μέχρι να μην υπάρξει καμία αλλαγή στα σύνολα δεδομένων."
   ]
  },
  {
   "cell_type": "code",
   "execution_count": 7,
   "metadata": {},
   "outputs": [
    {
     "name": "stdout",
     "output_type": "stream",
     "text": [
      "ratings:  (385632, 3)\n",
      "users:  (10404, 3)\n",
      "books:  (12508, 4)\n"
     ]
    }
   ],
   "source": [
    "# intial sizes\n",
    "ratings_size = ratings.shape\n",
    "books_size = books.shape\n",
    "users_size = users.shape\n",
    "\n",
    "while True: \n",
    "\n",
    "    # prune all books that have less than 10 ratings  \n",
    "    ratings_count = pd.DataFrame(ratings.groupby('ISBN')['Book-Rating'].count())\n",
    "    ratings_count.rename(columns={'Book-Rating':'counts'},inplace = True)\n",
    "    ratings_count.reset_index(inplace =True)\n",
    "    ratings_count = ratings_count[ratings_count['counts'] > 10 ]\n",
    "    # update ratings\n",
    "    ratings = ratings.merge(ratings_count[['ISBN']], how = 'inner' , on = 'ISBN' )\n",
    "    \n",
    "    # prune all users that have less than 5 ratings \n",
    "    ratings_count = pd.DataFrame(ratings.groupby('User-ID')['Book-Rating'].count())\n",
    "    ratings_count.rename(columns={'Book-Rating':'counts'},inplace = True)\n",
    "    ratings_count.reset_index(inplace =True)\n",
    "    ratings_count = ratings_count[ratings_count['counts'] > 5 ]\n",
    "    # update ratings\n",
    "    ratings = ratings.merge(ratings_count[['User-ID']], how = 'inner' , on = 'User-ID' )\n",
    "\n",
    "    if ratings_size == ratings.shape and books_size == books.shape and users_size == users.shape: \n",
    "        break\n",
    "    else:\n",
    "        ratings_size = ratings.shape\n",
    "        books_size = books.shape\n",
    "        users_size = users.shape\n",
    "        \n",
    "# update dataframes\n",
    "books = books.merge(ratings[['ISBN']], how = 'inner' , on = 'ISBN' ).drop_duplicates()\n",
    "users = users.merge(ratings[['User-ID']],how = 'inner' , on = 'User-ID').drop_duplicates()    \n",
    "\n",
    "# print new sizes of ratings,users and books  \n",
    "print('ratings: ',ratings.shape)\n",
    "print('users: ',users.shape)\n",
    "print('books: ',books.shape)"
   ]
  },
  {
   "cell_type": "markdown",
   "metadata": {},
   "source": [
    "Όπως μπορείτε να δείτε, το σύνολο δεδομένων \"ratings\" μειώθηκε στις 385632 εγγραφές, το 'users' στις 10404 και το 'books' στις 12508.Παρακάτω υλοποιείτε μια μέθοδος για να παίρνουμε τον τίτλο του βιβλίου δίνοντας το ISBN του."
   ]
  },
  {
   "cell_type": "code",
   "execution_count": 8,
   "metadata": {},
   "outputs": [],
   "source": [
    "def getbooknamefromISBN(ISBN):\n",
    "    return books.set_index('ISBN').loc[ISBN]['Book-Title']"
   ]
  },
  {
   "cell_type": "code",
   "execution_count": 9,
   "metadata": {},
   "outputs": [
    {
     "data": {
      "text/plain": [
       "'Zen Attitude'"
      ]
     },
     "execution_count": 9,
     "metadata": {},
     "output_type": "execute_result"
    }
   ],
   "source": [
    "getbooknamefromISBN(books['ISBN'].sample().tolist()[0])"
   ]
  },
  {
   "cell_type": "markdown",
   "metadata": {},
   "source": [
    "Εδώ αρχίζει η προεπεξεργασία των τίτλων για την δημιουργία λέξεων κλειδιών. Με αυτόν τον κώδικα θέτουμε σε μια καινούρια στήλη \"KeyWords\" στο σύνολο δεδομένων books όλους τους τίτλους των βιβλίων με πεζά γράμματα."
   ]
  },
  {
   "cell_type": "code",
   "execution_count": 10,
   "metadata": {},
   "outputs": [
    {
     "data": {
      "text/plain": [
       "0                                  the kitchen god's wife\n",
       "24                                          the testament\n",
       "355                  beloved (plume contemporary fiction)\n",
       "496     our dumb century: the onion presents 100 years...\n",
       "511     new vegetarian: bold and beautiful recipes for...\n",
       "526                                           wild animus\n",
       "1748                                             airframe\n",
       "1911                                             timeline\n",
       "2197                                     prague : a novel\n",
       "2215                                          lying awake\n",
       "Name: KeyWords, dtype: object"
      ]
     },
     "execution_count": 10,
     "metadata": {},
     "output_type": "execute_result"
    }
   ],
   "source": [
    "books['KeyWords'] = books['Book-Title'].str.lower()\n",
    "books['KeyWords'].head(10)"
   ]
  },
  {
   "cell_type": "markdown",
   "metadata": {},
   "source": [
    "Παρακάτω αφαιρούμε τα σημεία στίξης"
   ]
  },
  {
   "cell_type": "code",
   "execution_count": 11,
   "metadata": {},
   "outputs": [],
   "source": [
    "# remove punctuations from Keywords(Title)\n",
    "def remove_punctuation(text):\n",
    "    no_punct = \"\".join([c for c in text if c not in string.punctuation])\n",
    "    return no_punct"
   ]
  },
  {
   "cell_type": "code",
   "execution_count": 12,
   "metadata": {},
   "outputs": [
    {
     "data": {
      "text/plain": [
       "0                                   the kitchen gods wife\n",
       "24                                          the testament\n",
       "355                    beloved plume contemporary fiction\n",
       "496     our dumb century the onion presents 100 years ...\n",
       "511     new vegetarian bold and beautiful recipes for ...\n",
       "526                                           wild animus\n",
       "1748                                             airframe\n",
       "1911                                             timeline\n",
       "2197                                      prague  a novel\n",
       "2215                                          lying awake\n",
       "Name: KeyWords, dtype: object"
      ]
     },
     "execution_count": 12,
     "metadata": {},
     "output_type": "execute_result"
    }
   ],
   "source": [
    "books[\"KeyWords\"] = books[\"KeyWords\"].apply(lambda x : remove_punctuation(x))\n",
    "books[\"KeyWords\"].head(10)"
   ]
  },
  {
   "cell_type": "markdown",
   "metadata": {},
   "source": [
    "Στην συνέχεια κάνουμε tokenize."
   ]
  },
  {
   "cell_type": "code",
   "execution_count": 13,
   "metadata": {},
   "outputs": [
    {
     "data": {
      "text/plain": [
       "0                              [the, kitchen, gods, wife]\n",
       "24                                       [the, testament]\n",
       "355               [beloved, plume, contemporary, fiction]\n",
       "496     [our, dumb, century, the, onion, presents, 100...\n",
       "511     [new, vegetarian, bold, and, beautiful, recipe...\n",
       "526                                        [wild, animus]\n",
       "1748                                           [airframe]\n",
       "1911                                           [timeline]\n",
       "2197                                   [prague, a, novel]\n",
       "2215                                       [lying, awake]\n",
       "Name: KeyWords, dtype: object"
      ]
     },
     "execution_count": 13,
     "metadata": {},
     "output_type": "execute_result"
    }
   ],
   "source": [
    "# tokenize Keywords(Title)\n",
    "books[\"KeyWords\"] = books[\"KeyWords\"].fillna(\"\").map(word_tokenize)\n",
    "books[\"KeyWords\"].head(10)"
   ]
  },
  {
   "cell_type": "markdown",
   "metadata": {},
   "source": [
    "Έπειτα αφαιρούμε τα stopwords στα Αγγλικά."
   ]
  },
  {
   "cell_type": "code",
   "execution_count": 14,
   "metadata": {},
   "outputs": [],
   "source": [
    "# remove stopwords from Keywords \n",
    "def remove_stopwords(text):\n",
    "    words = [w for w in text if w not in stopwords.words('english')]\n",
    "    return words"
   ]
  },
  {
   "cell_type": "code",
   "execution_count": 15,
   "metadata": {},
   "outputs": [
    {
     "data": {
      "text/plain": [
       "0                                   [kitchen, gods, wife]\n",
       "24                                            [testament]\n",
       "355               [beloved, plume, contemporary, fiction]\n",
       "496     [dumb, century, onion, presents, 100, years, h...\n",
       "511     [new, vegetarian, bold, beautiful, recipes, ev...\n",
       "526                                        [wild, animus]\n",
       "1748                                           [airframe]\n",
       "1911                                           [timeline]\n",
       "2197                                      [prague, novel]\n",
       "2215                                       [lying, awake]\n",
       "Name: KeyWords, dtype: object"
      ]
     },
     "execution_count": 15,
     "metadata": {},
     "output_type": "execute_result"
    }
   ],
   "source": [
    "books[\"KeyWords\"] = books[\"KeyWords\"].apply(lambda x : remove_stopwords(x))\n",
    "books[\"KeyWords\"].head(10)"
   ]
  },
  {
   "cell_type": "markdown",
   "metadata": {},
   "source": [
    "Τέλος έχουμε την επιλογή να χρησιμοποιήσουμε είτε lemmatizer είτε stemmer για να κόψουμε τις καταλήξεις των λέξεων. Εγώ χρησιμοποιώ stemmer γιατί πιστεύω είναι ποιο χρήσιμος λόγο του μικρού μεγέθους των τίτλων."
   ]
  },
  {
   "cell_type": "code",
   "execution_count": 16,
   "metadata": {},
   "outputs": [],
   "source": [
    "# Instantiate lemmatizer \n",
    "lemmatizer = WordNetLemmatizer()\n",
    "def word_lemmatizer(text):\n",
    "    lem_text = \" \".join([lemmatizer.lemmatize(i) for i in text])\n",
    "    return lem_text"
   ]
  },
  {
   "cell_type": "code",
   "execution_count": 17,
   "metadata": {},
   "outputs": [],
   "source": [
    "# Instantiate Stemmer \n",
    "stemmer = PorterStemmer()\n",
    "def word_stemmer(text):\n",
    "    stem_text = [stemmer.stem(i) for i in text]\n",
    "    return stem_text"
   ]
  },
  {
   "cell_type": "code",
   "execution_count": 18,
   "metadata": {},
   "outputs": [
    {
     "data": {
      "text/plain": [
       "0                                    [kitchen, god, wife]\n",
       "24                                            [testament]\n",
       "355                 [belov, plume, contemporari, fiction]\n",
       "496     [dumb, centuri, onion, present, 100, year, hea...\n",
       "511     [new, vegetarian, bold, beauti, recip, everi, ...\n",
       "526                                         [wild, animu]\n",
       "1748                                            [airfram]\n",
       "1911                                            [timelin]\n",
       "2197                                       [pragu, novel]\n",
       "2215                                          [lie, awak]\n",
       "Name: KeyWords, dtype: object"
      ]
     },
     "execution_count": 18,
     "metadata": {},
     "output_type": "execute_result"
    }
   ],
   "source": [
    "books[\"KeyWords\"] = books[\"KeyWords\"].apply(lambda x : word_stemmer(x))\n",
    "books[\"KeyWords\"].head(10)"
   ]
  },
  {
   "cell_type": "markdown",
   "metadata": {},
   "source": [
    "Στην συνέχεια υλοποιώ μια μέθοδο για να παίρνω τα 3 βιβλία με την υψηλότερη βαθμολογία για έναν χρήστη καθώς και όλα τα βιβλία που έχει βαθμολογήσει"
   ]
  },
  {
   "cell_type": "code",
   "execution_count": 19,
   "metadata": {},
   "outputs": [],
   "source": [
    "# find 3 books' ISBN with the highest rating from the user and return them with all the books user has rated\n",
    "def get3largest_values(user_id):\n",
    "    user_books = ratings.set_index('User-ID').loc[user_id]\n",
    "    user_books = user_books.reset_index()[['ISBN','Book-Rating']]\n",
    "    return user_books ,user_books.nlargest(3,keep = \"first\", columns = ['Book-Rating'] ) "
   ]
  },
  {
   "cell_type": "code",
   "execution_count": 20,
   "metadata": {},
   "outputs": [
    {
     "name": "stdout",
     "output_type": "stream",
     "text": [
      "         ISBN  Book-Rating                                         Book-Title\n",
      "0  0060987103            0  Wicked: The Life and Times of the Wicked Witch...\n",
      "1  0393046974            0                              House of Sand and Fog\n",
      "2  080410753X            0                             The Kitchen God's Wife\n",
      "3  0060928336            0    Divine Secrets of the Ya-Ya Sisterhood: A Novel\n",
      "4  0684857820            8                                              Lucky\n",
      "5  1573229571            0                         About a Boy (Movie Tie-In)\n",
      "6  0345339703            0  The Fellowship of the Ring (The Lord of the Ri...\n",
      "7  0345443683            0   Blackwood Farm (Rice, Anne, Vampire Chronicles.)\n",
      "8  0439139600           10       Harry Potter and the Goblet of Fire (Book 4)\n",
      "9  0553213105            0                                Pride and Prejudice\n",
      "Favourite books: \n",
      "          ISBN  Book-Rating                                    Book-Title\n",
      "8   0439139600           10  Harry Potter and the Goblet of Fire (Book 4)\n",
      "12  006447108X           10                               The Last Battle\n",
      "15  0446530077           10                                       Find Me\n"
     ]
    }
   ],
   "source": [
    "user_books , fav_books = get3largest_values(users['User-ID'].sample().tolist()[0])\n",
    "# print 10 books rated from user \n",
    "user_books[\"Book-Title\"] = user_books[\"ISBN\"].apply(lambda x : getbooknamefromISBN(x))\n",
    "print(user_books.head(10))\n",
    "# print favourite books \n",
    "print(\"Favourite books: \")\n",
    "fav_books[\"Book-Title\"] = fav_books[\"ISBN\"].apply(lambda x : getbooknamefromISBN(x))\n",
    "print(fav_books)"
   ]
  },
  {
   "cell_type": "markdown",
   "metadata": {},
   "source": [
    "Μέθοδος που δημιουργεί ένα “προφίλ” προτιμήσεων του χρήστη με βάση την\n",
    "ένωση των λέξεων κλειδιών των 3 βιβλίων, τους συγγραφείς τους και το έτος\n",
    "έκδοσης τους και επιστρέφει όλα αυτά και τα ISBN των βιβλίων που έχει βαθμολογήσει."
   ]
  },
  {
   "cell_type": "code",
   "execution_count": 21,
   "metadata": {},
   "outputs": [],
   "source": [
    "def make_user_profile(user_id):\n",
    "    # get  readed and favourites books of user  \n",
    "    user_books , fav_books = get3largest_values(user_id)\n",
    "    \n",
    "    # initialize \n",
    "    keywords = []\n",
    "    authors = [] \n",
    "    years_of_publication = []\n",
    "    \n",
    "    for index,book in fav_books.iterrows():\n",
    "            keywords += books.set_index('ISBN').loc[book['ISBN']]['KeyWords']\n",
    "            authors.append(books.set_index('ISBN').loc[book['ISBN']]['Book-Author'].lower())\n",
    "            years_of_publication.append(books.set_index('ISBN').loc[book['ISBN']]['Year-Of-Publication'])\n",
    "    return keywords, authors, years_of_publication , user_books"
   ]
  },
  {
   "cell_type": "code",
   "execution_count": 22,
   "metadata": {},
   "outputs": [
    {
     "name": "stdout",
     "output_type": "stream",
     "text": [
      "['redwal', 'redwal', 'book', '1', 'catcher', 'rye', 'confederaci', 'dunc'] ['brian jacques', 'j.d. salinger', 'john kennedy toole'] ['1998', '1991', '1995']\n"
     ]
    },
    {
     "data": {
      "text/html": [
       "<div>\n",
       "<style scoped>\n",
       "    .dataframe tbody tr th:only-of-type {\n",
       "        vertical-align: middle;\n",
       "    }\n",
       "\n",
       "    .dataframe tbody tr th {\n",
       "        vertical-align: top;\n",
       "    }\n",
       "\n",
       "    .dataframe thead th {\n",
       "        text-align: right;\n",
       "    }\n",
       "</style>\n",
       "<table border=\"1\" class=\"dataframe\">\n",
       "  <thead>\n",
       "    <tr style=\"text-align: right;\">\n",
       "      <th></th>\n",
       "      <th>index</th>\n",
       "      <th>ISBN</th>\n",
       "      <th>Book-Rating</th>\n",
       "      <th>Book-Title</th>\n",
       "    </tr>\n",
       "  </thead>\n",
       "  <tbody>\n",
       "    <tr>\n",
       "      <td>0</td>\n",
       "      <td>0</td>\n",
       "      <td>0316769487</td>\n",
       "      <td>9</td>\n",
       "      <td>The Catcher in the Rye</td>\n",
       "    </tr>\n",
       "    <tr>\n",
       "      <td>1</td>\n",
       "      <td>1</td>\n",
       "      <td>0060928336</td>\n",
       "      <td>0</td>\n",
       "      <td>Divine Secrets of the Ya-Ya Sisterhood: A Novel</td>\n",
       "    </tr>\n",
       "    <tr>\n",
       "      <td>2</td>\n",
       "      <td>2</td>\n",
       "      <td>038079487X</td>\n",
       "      <td>5</td>\n",
       "      <td>What Looks Like Crazy On An Ordinary Day</td>\n",
       "    </tr>\n",
       "    <tr>\n",
       "      <td>3</td>\n",
       "      <td>3</td>\n",
       "      <td>0345443284</td>\n",
       "      <td>0</td>\n",
       "      <td>While I Was Gone</td>\n",
       "    </tr>\n",
       "    <tr>\n",
       "      <td>4</td>\n",
       "      <td>4</td>\n",
       "      <td>0441005489</td>\n",
       "      <td>10</td>\n",
       "      <td>Redwall (Redwall, Book 1)</td>\n",
       "    </tr>\n",
       "    <tr>\n",
       "      <td>5</td>\n",
       "      <td>5</td>\n",
       "      <td>0517122707</td>\n",
       "      <td>9</td>\n",
       "      <td>A Confederacy of Dunces</td>\n",
       "    </tr>\n",
       "    <tr>\n",
       "      <td>6</td>\n",
       "      <td>6</td>\n",
       "      <td>0060926201</td>\n",
       "      <td>7</td>\n",
       "      <td>She Flew the Coop : A Novel Concerning Life, D...</td>\n",
       "    </tr>\n",
       "    <tr>\n",
       "      <td>7</td>\n",
       "      <td>7</td>\n",
       "      <td>0743211995</td>\n",
       "      <td>0</td>\n",
       "      <td>An Hour Before Daylight : Memoirs of a Rural B...</td>\n",
       "    </tr>\n",
       "  </tbody>\n",
       "</table>\n",
       "</div>"
      ],
      "text/plain": [
       "   index        ISBN  Book-Rating  \\\n",
       "0      0  0316769487            9   \n",
       "1      1  0060928336            0   \n",
       "2      2  038079487X            5   \n",
       "3      3  0345443284            0   \n",
       "4      4  0441005489           10   \n",
       "5      5  0517122707            9   \n",
       "6      6  0060926201            7   \n",
       "7      7  0743211995            0   \n",
       "\n",
       "                                          Book-Title  \n",
       "0                             The Catcher in the Rye  \n",
       "1    Divine Secrets of the Ya-Ya Sisterhood: A Novel  \n",
       "2           What Looks Like Crazy On An Ordinary Day  \n",
       "3                                   While I Was Gone  \n",
       "4                          Redwall (Redwall, Book 1)  \n",
       "5                            A Confederacy of Dunces  \n",
       "6  She Flew the Coop : A Novel Concerning Life, D...  \n",
       "7  An Hour Before Daylight : Memoirs of a Rural B...  "
      ]
     },
     "execution_count": 22,
     "metadata": {},
     "output_type": "execute_result"
    }
   ],
   "source": [
    "profile = make_user_profile(users['User-ID'].sample().tolist()[0])\n",
    "print(profile[0],profile[1],profile[2])\n",
    "user_books  = profile[3]\n",
    "user_books = user_books.reset_index()\n",
    "user_books[\"Book-Title\"] = user_books[\"ISBN\"].apply(lambda x : getbooknamefromISBN(x))\n",
    "user_books.head(10)"
   ]
  },
  {
   "cell_type": "markdown",
   "metadata": {},
   "source": [
    "H ομοιότητα Jaccard βασισμένη στον τύπο $ J(X,Y) = |X∩Y| / |X∪Y| $ "
   ]
  },
  {
   "cell_type": "code",
   "execution_count": 23,
   "metadata": {},
   "outputs": [],
   "source": [
    "def jaccard_similarity(x,y): \n",
    "    intersection_cardinality = len(set(x) & set(y))\n",
    "    union_cardinality = len(set(x) | set(y))\n",
    "    return intersection_cardinality/float(union_cardinality)"
   ]
  },
  {
   "cell_type": "code",
   "execution_count": 24,
   "metadata": {},
   "outputs": [
    {
     "data": {
      "text/plain": [
       "0.3333333333333333"
      ]
     },
     "execution_count": 24,
     "metadata": {},
     "output_type": "execute_result"
    }
   ],
   "source": [
    "jaccard_similarity([\"hallo\",\"world\"] ,[\"hello\",\"world\"])"
   ]
  },
  {
   "cell_type": "markdown",
   "metadata": {},
   "source": [
    "Έλεγχος για το αν υλοποιήθηκε σωστά."
   ]
  },
  {
   "cell_type": "code",
   "execution_count": 25,
   "metadata": {},
   "outputs": [
    {
     "data": {
      "text/plain": [
       "0.3333333333333333"
      ]
     },
     "execution_count": 25,
     "metadata": {},
     "output_type": "execute_result"
    }
   ],
   "source": [
    "j = Jaccard()\n",
    "j.get_raw_score([\"hallo\",\"world\"] ,[\"hello\",\"world\"])"
   ]
  },
  {
   "cell_type": "markdown",
   "metadata": {},
   "source": [
    "H ομοιότητα Dice coefficient βασισμένη στον τύπο $DSC(X,Y) = 2|X∩Y| / (|X|+|Y|)$"
   ]
  },
  {
   "cell_type": "code",
   "execution_count": 26,
   "metadata": {},
   "outputs": [],
   "source": [
    "def dice_coefficient(a, b):\n",
    "    \"\"\"dice coefficient 2nt/(na + nb).\"\"\"\n",
    "    overlap = len(set(a) & set(b))\n",
    "    return overlap * 2.0/(len(set(a)) + len(set(b)))"
   ]
  },
  {
   "cell_type": "code",
   "execution_count": 27,
   "metadata": {},
   "outputs": [
    {
     "data": {
      "text/plain": [
       "0.5"
      ]
     },
     "execution_count": 27,
     "metadata": {},
     "output_type": "execute_result"
    }
   ],
   "source": [
    "dice_coefficient([\"hallo\",\"world\"] ,[\"hello\",\"world\"])"
   ]
  },
  {
   "cell_type": "markdown",
   "metadata": {},
   "source": [
    "Έλεγχος για το αν υλοποιήθηκε σωστά "
   ]
  },
  {
   "cell_type": "code",
   "execution_count": 28,
   "metadata": {},
   "outputs": [
    {
     "data": {
      "text/plain": [
       "0.5"
      ]
     },
     "execution_count": 28,
     "metadata": {},
     "output_type": "execute_result"
    }
   ],
   "source": [
    "dice = Dice()\n",
    "dice.get_raw_score([\"hallo\",\"world\"] ,[\"hello\",\"world\"])"
   ]
  },
  {
   "cell_type": "markdown",
   "metadata": {},
   "source": [
    "Μέθοδος που υπολογίζει την ομοιότητα ενός βιβλίου με το “προφίλ” προτιμήσεων ενός χρήστη και ανάλογα το mode που θα επιλέξουμε επιστρέφει την ομοιότητα.(για mode = 1 η ομοιότητά υπολογίζεται ως εξής : Jaccard για τις λέξεις κλειδιά με βάρος 0.2, ισότητα για τους συγγραφείς 0.4,διαφορά ετών έκδοσης 0.4 και για mode = 2 : Dice coefficient για τις λέξεις κλειδιά με βάρος 0.5, ισότητα για τους συγγραφείς 0.3, διαφορά ετών έκδοσης 0.2)\n"
   ]
  },
  {
   "cell_type": "code",
   "execution_count": 29,
   "metadata": {},
   "outputs": [],
   "source": [
    "def calc_similarity(user_profile,book,mode):\n",
    "    # get keywords \n",
    "    profile_keywords = user_profile[0]\n",
    "    book_keywords = book['KeyWords']\n",
    "    \n",
    "    # get author \n",
    "    profile_authors =  user_profile[1]\n",
    "    book_author = book['Book-Author'].lower()\n",
    "    \n",
    "    # get years \n",
    "    profile_years =  user_profile[2]\n",
    "    book_year = book['Year-Of-Publication']\n",
    "    \n",
    "    # calculate keywords_similarity \n",
    "    if mode == 1:\n",
    "        keywords_similarity = jaccard_similarity(profile_keywords,book_keywords)\n",
    "    elif mode == 2:\n",
    "        keywords_similarity = dice_coefficient(profile_keywords,book_keywords)\n",
    "    else:\n",
    "        print(\"mode is missing or is incoreect\")\n",
    "        pass\n",
    "    # calculate author similarity \n",
    "    if book_author in profile_authors:\n",
    "        author_similarity = 1 \n",
    "    else:\n",
    "        author_similarity = 0\n",
    "    \n",
    "    # calculate years similarity\n",
    "    year_similarity = min([1-(abs(int(x)-int(book_year))/2005) for x in profile_years])\n",
    "    \n",
    "    if mode == 1:\n",
    "        return 0.2 * keywords_similarity + 0.4 * author_similarity + 0.4 * year_similarity\n",
    "    elif mode==2:\n",
    "        return 0.5 * keywords_similarity + 0.3 * author_similarity + 0.2 * year_similarity\n",
    "    "
   ]
  },
  {
   "cell_type": "code",
   "execution_count": 30,
   "metadata": {},
   "outputs": [
    {
     "name": "stdout",
     "output_type": "stream",
     "text": [
      "ISBN                    0812574621\n",
      "Book-Title                 Animist\n",
      "Book-Author            Eve Forward\n",
      "Year-Of-Publication           2001\n",
      "KeyWords                 [animist]\n",
      "Name: 311802, dtype: object\n",
      "Similarity(mode=1) :  0.3980049875311721\n",
      "Similarity(mode=2) :  0.19900249376558604\n"
     ]
    }
   ],
   "source": [
    "# calculate similarity between profile that already have and random book\n",
    "book = books.loc[books.sample().index.tolist()[0]]\n",
    "print(book)\n",
    "print(\"Similarity(mode=1) : \",calc_similarity(profile,book,1))\n",
    "print(\"Similarity(mode=2) : \",calc_similarity(profile,book,2))"
   ]
  },
  {
   "cell_type": "markdown",
   "metadata": {},
   "source": [
    "Μέθοδος που προτείνει στον χρήστη τα 10 αντικείμενα (που δεν έχει βαθμολογήσει) τα οποία\n",
    "είναι ομοιότερα με το προφίλ του, διατεταγμένα από το περισσότερο προς το\n",
    "λιγότερο όμοιο."
   ]
  },
  {
   "cell_type": "code",
   "execution_count": 78,
   "metadata": {},
   "outputs": [],
   "source": [
    "def recommend(user_profile,mode):\n",
    "    books_similarity = pd.DataFrame(books['ISBN'])\n",
    "    str_similarity = ''\n",
    "    if mode == 1 :\n",
    "        str_similarity = 'Jaccard-Similarity'\n",
    "    elif mode == 2 : \n",
    "        str_similarity = 'Dice-Similarity'\n",
    "    else:\n",
    "        print(\"mode is missing or is incoreect\")\n",
    "        pass\n",
    "    books_similarity[str_similarity] = None   \n",
    "    for index,book in books.iterrows():\n",
    "        if book['ISBN'] not in user_profile[3]['ISBN'].unique():\n",
    "            books_similarity.loc[index][str_similarity] =  calc_similarity(user_profile,book,mode)\n",
    "    \n",
    "    return books_similarity.sort_values([str_similarity],ascending=False).dropna().head(10)"
   ]
  },
  {
   "cell_type": "code",
   "execution_count": 82,
   "metadata": {},
   "outputs": [
    {
     "data": {
      "text/html": [
       "<div>\n",
       "<style scoped>\n",
       "    .dataframe tbody tr th:only-of-type {\n",
       "        vertical-align: middle;\n",
       "    }\n",
       "\n",
       "    .dataframe tbody tr th {\n",
       "        vertical-align: top;\n",
       "    }\n",
       "\n",
       "    .dataframe thead th {\n",
       "        text-align: right;\n",
       "    }\n",
       "</style>\n",
       "<table border=\"1\" class=\"dataframe\">\n",
       "  <thead>\n",
       "    <tr style=\"text-align: right;\">\n",
       "      <th></th>\n",
       "      <th>ISBN</th>\n",
       "      <th>Jaccard-Similarity</th>\n",
       "      <th>Book-Title</th>\n",
       "    </tr>\n",
       "  </thead>\n",
       "  <tbody>\n",
       "    <tr>\n",
       "      <td>112649</td>\n",
       "      <td>0802130208</td>\n",
       "      <td>0.872805</td>\n",
       "      <td>A Confederacy of Dunces (Evergreen Book)</td>\n",
       "    </tr>\n",
       "    <tr>\n",
       "      <td>376899</td>\n",
       "      <td>0316769177</td>\n",
       "      <td>0.855148</td>\n",
       "      <td>The Catcher in the Rye</td>\n",
       "    </tr>\n",
       "    <tr>\n",
       "      <td>367458</td>\n",
       "      <td>0394179692</td>\n",
       "      <td>0.853951</td>\n",
       "      <td>A confederacy of dunces</td>\n",
       "    </tr>\n",
       "    <tr>\n",
       "      <td>83071</td>\n",
       "      <td>0441000312</td>\n",
       "      <td>0.843646</td>\n",
       "      <td>Salamandastron (Redwall, Book 5)</td>\n",
       "    </tr>\n",
       "    <tr>\n",
       "      <td>292338</td>\n",
       "      <td>044100315X</td>\n",
       "      <td>0.843447</td>\n",
       "      <td>The Bellmaker (Redwall, Book 7)</td>\n",
       "    </tr>\n",
       "    <tr>\n",
       "      <td>114178</td>\n",
       "      <td>0441004164</td>\n",
       "      <td>0.843247</td>\n",
       "      <td>Outcast of Redwall (Redwall, Book 8)</td>\n",
       "    </tr>\n",
       "    <tr>\n",
       "      <td>80746</td>\n",
       "      <td>0380715309</td>\n",
       "      <td>0.843048</td>\n",
       "      <td>Mattimeo (Redwall, Book 3)</td>\n",
       "    </tr>\n",
       "    <tr>\n",
       "      <td>93676</td>\n",
       "      <td>0441005764</td>\n",
       "      <td>0.843048</td>\n",
       "      <td>Mossflower (Redwall, Book 2)</td>\n",
       "    </tr>\n",
       "    <tr>\n",
       "      <td>332493</td>\n",
       "      <td>0441006108</td>\n",
       "      <td>0.842848</td>\n",
       "      <td>Mattimeo (Redwall, Book 3)</td>\n",
       "    </tr>\n",
       "    <tr>\n",
       "      <td>235983</td>\n",
       "      <td>0380719223</td>\n",
       "      <td>0.842848</td>\n",
       "      <td>Mariel of Redwall (Redwall, Book 4)</td>\n",
       "    </tr>\n",
       "  </tbody>\n",
       "</table>\n",
       "</div>"
      ],
      "text/plain": [
       "              ISBN Jaccard-Similarity  \\\n",
       "112649  0802130208           0.872805   \n",
       "376899  0316769177           0.855148   \n",
       "367458  0394179692           0.853951   \n",
       "83071   0441000312           0.843646   \n",
       "292338  044100315X           0.843447   \n",
       "114178  0441004164           0.843247   \n",
       "80746   0380715309           0.843048   \n",
       "93676   0441005764           0.843048   \n",
       "332493  0441006108           0.842848   \n",
       "235983  0380719223           0.842848   \n",
       "\n",
       "                                      Book-Title  \n",
       "112649  A Confederacy of Dunces (Evergreen Book)  \n",
       "376899                    The Catcher in the Rye  \n",
       "367458                   A confederacy of dunces  \n",
       "83071           Salamandastron (Redwall, Book 5)  \n",
       "292338           The Bellmaker (Redwall, Book 7)  \n",
       "114178      Outcast of Redwall (Redwall, Book 8)  \n",
       "80746                 Mattimeo (Redwall, Book 3)  \n",
       "93676               Mossflower (Redwall, Book 2)  \n",
       "332493                Mattimeo (Redwall, Book 3)  \n",
       "235983       Mariel of Redwall (Redwall, Book 4)  "
      ]
     },
     "execution_count": 82,
     "metadata": {},
     "output_type": "execute_result"
    }
   ],
   "source": [
    "# calculate and print recommended books with first mode  \n",
    "recommended_books1 = recommend(profile,1)\n",
    "recommended_books1[\"Book-Title\"] = recommended_books1[\"ISBN\"].apply(lambda x : getbooknamefromISBN(x))\n",
    "recommended_books1"
   ]
  },
  {
   "cell_type": "code",
   "execution_count": 83,
   "metadata": {},
   "outputs": [
    {
     "data": {
      "text/html": [
       "<div>\n",
       "<style scoped>\n",
       "    .dataframe tbody tr th:only-of-type {\n",
       "        vertical-align: middle;\n",
       "    }\n",
       "\n",
       "    .dataframe tbody tr th {\n",
       "        vertical-align: top;\n",
       "    }\n",
       "\n",
       "    .dataframe thead th {\n",
       "        text-align: right;\n",
       "    }\n",
       "</style>\n",
       "<table border=\"1\" class=\"dataframe\">\n",
       "  <thead>\n",
       "    <tr style=\"text-align: right;\">\n",
       "      <th></th>\n",
       "      <th>ISBN</th>\n",
       "      <th>Dice-Similarity</th>\n",
       "      <th>Book-Title</th>\n",
       "    </tr>\n",
       "  </thead>\n",
       "  <tbody>\n",
       "    <tr>\n",
       "      <td>112649</td>\n",
       "      <td>0802130208</td>\n",
       "      <td>0.77163</td>\n",
       "      <td>A Confederacy of Dunces (Evergreen Book)</td>\n",
       "    </tr>\n",
       "    <tr>\n",
       "      <td>376899</td>\n",
       "      <td>0316769177</td>\n",
       "      <td>0.721225</td>\n",
       "      <td>The Catcher in the Rye</td>\n",
       "    </tr>\n",
       "    <tr>\n",
       "      <td>367458</td>\n",
       "      <td>0394179692</td>\n",
       "      <td>0.720626</td>\n",
       "      <td>A confederacy of dunces</td>\n",
       "    </tr>\n",
       "    <tr>\n",
       "      <td>83071</td>\n",
       "      <td>0441000312</td>\n",
       "      <td>0.681419</td>\n",
       "      <td>Salamandastron (Redwall, Book 5)</td>\n",
       "    </tr>\n",
       "    <tr>\n",
       "      <td>292338</td>\n",
       "      <td>044100315X</td>\n",
       "      <td>0.681319</td>\n",
       "      <td>The Bellmaker (Redwall, Book 7)</td>\n",
       "    </tr>\n",
       "    <tr>\n",
       "      <td>114178</td>\n",
       "      <td>0441004164</td>\n",
       "      <td>0.68122</td>\n",
       "      <td>Outcast of Redwall (Redwall, Book 8)</td>\n",
       "    </tr>\n",
       "    <tr>\n",
       "      <td>93676</td>\n",
       "      <td>0441005764</td>\n",
       "      <td>0.68112</td>\n",
       "      <td>Mossflower (Redwall, Book 2)</td>\n",
       "    </tr>\n",
       "    <tr>\n",
       "      <td>80746</td>\n",
       "      <td>0380715309</td>\n",
       "      <td>0.68112</td>\n",
       "      <td>Mattimeo (Redwall, Book 3)</td>\n",
       "    </tr>\n",
       "    <tr>\n",
       "      <td>235983</td>\n",
       "      <td>0380719223</td>\n",
       "      <td>0.68102</td>\n",
       "      <td>Mariel of Redwall (Redwall, Book 4)</td>\n",
       "    </tr>\n",
       "    <tr>\n",
       "      <td>332493</td>\n",
       "      <td>0441006108</td>\n",
       "      <td>0.68102</td>\n",
       "      <td>Mattimeo (Redwall, Book 3)</td>\n",
       "    </tr>\n",
       "  </tbody>\n",
       "</table>\n",
       "</div>"
      ],
      "text/plain": [
       "              ISBN Dice-Similarity                                Book-Title\n",
       "112649  0802130208         0.77163  A Confederacy of Dunces (Evergreen Book)\n",
       "376899  0316769177        0.721225                    The Catcher in the Rye\n",
       "367458  0394179692        0.720626                   A confederacy of dunces\n",
       "83071   0441000312        0.681419          Salamandastron (Redwall, Book 5)\n",
       "292338  044100315X        0.681319           The Bellmaker (Redwall, Book 7)\n",
       "114178  0441004164         0.68122      Outcast of Redwall (Redwall, Book 8)\n",
       "93676   0441005764         0.68112              Mossflower (Redwall, Book 2)\n",
       "80746   0380715309         0.68112                Mattimeo (Redwall, Book 3)\n",
       "235983  0380719223         0.68102       Mariel of Redwall (Redwall, Book 4)\n",
       "332493  0441006108         0.68102                Mattimeo (Redwall, Book 3)"
      ]
     },
     "execution_count": 83,
     "metadata": {},
     "output_type": "execute_result"
    }
   ],
   "source": [
    "# calculate and print recommended books with second mode  \n",
    "recommended_books2 = recommend(profile,2)\n",
    "recommended_books2[\"Book-Title\"] = recommended_books2[\"ISBN\"].apply(lambda x : getbooknamefromISBN(x))\n",
    "recommended_books2"
   ]
  },
  {
   "cell_type": "markdown",
   "metadata": {},
   "source": [
    "Εδώ ξεκινάει το πείραμα. Επιλέγουμε τυχαία 5 χρήστες και παράγουμε για\n",
    "αυτούς τις σχετικές προτάσεις και με τις δύο εναλλακτικές, οι οποίες και θα\n",
    "καταγράφουν σε αντίστοιχα αρχεία εξόδου (διαφορετικά).Άμα θέλετε μπορείτε να παραλείψετε την δημιουργία προβλέψεων και να διαβάσετε τις υπάρχοντες προβλέψεις (άμα υπάρχουν).  \n"
   ]
  },
  {
   "cell_type": "code",
   "execution_count": 84,
   "metadata": {},
   "outputs": [],
   "source": [
    "def make_predictions():\n",
    "    # random sample of 5 users \n",
    "    sampled_users = users['User-ID'].sample(5).tolist()\n",
    "\n",
    "    for user in sampled_users:\n",
    "        # make user's profile \n",
    "        profile = make_user_profile(user)\n",
    "\n",
    "        # recommend 10 books with first method\n",
    "        recommended_books1 = recommend(profile,1)\n",
    "        recommended_books1[\"Book-Title\"] = recommended_books1[\"ISBN\"].apply(lambda x : getbooknamefromISBN(x))\n",
    "\n",
    "        # recommend 10 books with the second method\n",
    "        recommended_books2 = recommend(profile,2)\n",
    "        recommended_books2[\"Book-Title\"] = recommended_books2[\"ISBN\"].apply(lambda x : getbooknamefromISBN(x))\n",
    "\n",
    "        # save them \n",
    "        recommended_books1.to_csv(str(user)+'_1.csv',index= None,encoding='cp437')\n",
    "        recommended_books2.to_csv(str(user)+'_2.csv',index= None,encoding='cp437')\n",
    "    \n",
    "    # save sampled users \n",
    "    with open('sampled_users.csv', 'w', newline='') as myfile:\n",
    "        wr = csv.writer(myfile, quoting=csv.QUOTE_ALL)\n",
    "        wr.writerow(sampled_users)\n",
    "        "
   ]
  },
  {
   "cell_type": "code",
   "execution_count": 85,
   "metadata": {},
   "outputs": [],
   "source": [
    "make_predictions()"
   ]
  },
  {
   "cell_type": "markdown",
   "metadata": {},
   "source": [
    "Για κάθε χρήστη που τυχαία επέλεξε προηγουμένως, μετραει την ομοιότητα των λιστών με τα αποτέλεσματα\n",
    "υπολογίζοντας τη μέση επικάλυψη τους και τα επιστρέφει μαζί με 2 λίστες που έχουν τα αποτελέσματα των χρηστών.Πρωτα πρέπει να φτιαχτεί μια μέθοδος για να μετράμε την επικάλυψη βάση του τύπου $overlap_coefficient(X,Y)=|X∩Y|/min(|X|,|Y|)$"
   ]
  },
  {
   "cell_type": "code",
   "execution_count": 36,
   "metadata": {},
   "outputs": [],
   "source": [
    "def overlap(x,y):\n",
    "    intersection_cardinality = len(set(x) & set(y))\n",
    "    return intersection_cardinality / min(len(set(x)),len(set(y)))"
   ]
  },
  {
   "cell_type": "code",
   "execution_count": 37,
   "metadata": {},
   "outputs": [
    {
     "data": {
      "text/plain": [
       "0.5"
      ]
     },
     "execution_count": 37,
     "metadata": {},
     "output_type": "execute_result"
    }
   ],
   "source": [
    "overlap([\"hallo\",\"world\"] ,[\"hello\",\"world\"])"
   ]
  },
  {
   "cell_type": "markdown",
   "metadata": {},
   "source": [
    "Έλεγχος για το αν υλοποιήθηκε σωστά. "
   ]
  },
  {
   "cell_type": "code",
   "execution_count": 38,
   "metadata": {},
   "outputs": [
    {
     "data": {
      "text/plain": [
       "0.5"
      ]
     },
     "execution_count": 38,
     "metadata": {},
     "output_type": "execute_result"
    }
   ],
   "source": [
    "oc = OverlapCoefficient()\n",
    "oc.get_raw_score([\"hallo\",\"world\"] ,[\"hello\",\"world\"])"
   ]
  },
  {
   "cell_type": "code",
   "execution_count": 86,
   "metadata": {},
   "outputs": [],
   "source": [
    "def read_sampled_users():\n",
    "    sampled_users = [] \n",
    "    with open('sampled_users.csv', 'r') as f:\n",
    "        reader = csv.reader(f)\n",
    "        sampled_users = list(reader)[0]\n",
    "    return sampled_users"
   ]
  },
  {
   "cell_type": "code",
   "execution_count": 87,
   "metadata": {},
   "outputs": [
    {
     "name": "stdout",
     "output_type": "stream",
     "text": [
      "['101381', '226743', '271538', '162626', '102702']\n"
     ]
    }
   ],
   "source": [
    "# read the User-ID fro sampled users  \n",
    "sampled_users = read_sampled_users()\n",
    "print(sampled_users)"
   ]
  },
  {
   "cell_type": "code",
   "execution_count": 51,
   "metadata": {},
   "outputs": [],
   "source": [
    "def read_recommended_books(sampled_users):\n",
    "    # lists with recommended books for every user \n",
    "    recommended_books1_list = []\n",
    "    recommended_books2_list = [] \n",
    "    \n",
    "    for user in sampled_users:\n",
    "        # read recommended_books with first method\n",
    "        recommended_books1 = pd.read_csv(str(user) + '_1.csv',low_memory=False,encoding='cp437',dtype={'ISBN': str})\n",
    "        recommended_books1_list.append(recommended_books1)\n",
    "        # read recommended_books with second method\n",
    "        recommended_books2 = pd.read_csv(str(user) + '_2.csv',low_memory=False,encoding='cp437',dtype={'ISBN': str})\n",
    "        recommended_books2_list.append(recommended_books2)\n",
    "    \n",
    "    return recommended_books1_list,recommended_books2_list"
   ]
  },
  {
   "cell_type": "code",
   "execution_count": 112,
   "metadata": {},
   "outputs": [
    {
     "name": "stdout",
     "output_type": "stream",
     "text": [
      "         ISBN  Jaccard-Similarity                         Book-Title\n",
      "0  0316693642            0.872805                Along Came a Spider\n",
      "1  0446606189            0.858803    Cat   Mouse (Alex Cross Novels)\n",
      "2  0446604801            0.858603    Jack   Jill (Alex Cross Novels)\n",
      "3  0446605484            0.858404  Roses Are Red (Alex Cross Novels)\n",
      "4  0812969812            0.848005                Blessings : A Novel\n",
      "5  0375502238            0.823204                          Blessings\n",
      "6  0061015725            0.823005                               Prey\n",
      "7  0375500510            0.818803           Black and Blue : A Novel\n",
      "8  0316693715            0.818404             Jack and Jill: A Novel\n",
      "9  0316666009            0.818404                1st to Die: A Novel\n",
      "         ISBN  Dice-Similarity                         Book-Title\n",
      "0  0316693642         0.771630                Along Came a Spider\n",
      "1  0446606189         0.730171    Cat   Mouse (Alex Cross Novels)\n",
      "2  0446604801         0.730071    Jack   Jill (Alex Cross Novels)\n",
      "3  0446605484         0.729971  Roses Are Red (Alex Cross Novels)\n",
      "4  0812969812         0.699002                Blessings : A Novel\n",
      "5  0375502238         0.610213                          Blessings\n",
      "6  0061015725         0.610114                               Prey\n",
      "7  0375500510         0.590311           Black and Blue : A Novel\n",
      "8  0316693715         0.590111             Jack and Jill: A Novel\n",
      "9  0316666009         0.590111                1st to Die: A Novel\n"
     ]
    }
   ],
   "source": [
    "# read reconmended books\n",
    "recommended_books1_list , recommended_books2_list = read_recommended_books(sampled_users)\n",
    "# print first sampled user recommended books \n",
    "print(recommended_books1_list[0])\n",
    "print(recommended_books2_list[0])"
   ]
  },
  {
   "cell_type": "code",
   "execution_count": 113,
   "metadata": {},
   "outputs": [],
   "source": [
    "def calc_weighted_overlap(recommended_books1,recommended_books2):\n",
    "    weighted_overlap = 0\n",
    "    sum_overlap = 0 \n",
    "    for i in range(10):\n",
    "        \n",
    "        # get isbn\n",
    "        isbns1 = recommended_books1.iloc[0:i+1, 0].tolist()\n",
    "        isbns2 = recommended_books2.iloc[0:i+1, 0].tolist()\n",
    "        \n",
    "        # update sum overlap \n",
    "        sum_overlap += overlap(isbns1,isbns2)\n",
    "            \n",
    "    # compute weighted_overlap\n",
    "    weighted_overlap = sum_overlap/10\n",
    "\n",
    "    return weighted_overlap"
   ]
  },
  {
   "cell_type": "code",
   "execution_count": 114,
   "metadata": {},
   "outputs": [
    {
     "name": "stdout",
     "output_type": "stream",
     "text": [
      "Weighted_Overlaps\n",
      "User:  101381   1.0\n",
      "User:  226743   0.9646031746031746\n",
      "User:  271538   1.0\n",
      "User:  162626   0.9746031746031745\n",
      "User:  102702   0.975\n"
     ]
    }
   ],
   "source": [
    "# calculate weighted_overlaps for every user  \n",
    "weighted_overlaps = []       \n",
    "\n",
    "for i in range(5):    \n",
    "    weighted_overlap = calc_weighted_overlap(recommended_books1_list[i],recommended_books2_list[i])\n",
    "    weighted_overlaps.append(weighted_overlap)\n",
    "    \n",
    "print('Weighted_Overlaps')\n",
    "for i in range(5):\n",
    "    print('User: ',sampled_users[i],\" \",weighted_overlaps[i])"
   ]
  },
  {
   "cell_type": "markdown",
   "metadata": {},
   "source": [
    "Για κάθε χρήστη, υπολογίζει σε πόσες λίστες εμφανίζεται το κάθε αποτέλεσμα και\n",
    "ταξινομεί τα σε μία νέα λίστα—πρώτα με βάση του πλήθους εμφανίσεων και\n",
    "μετά με βάση την ομοιότητα με το προφίλ του χρήστη. H ομοιότητα που χρησιμοποιείται στην ταξινόμηση είναι ο μ.ο. των Jaccard και Dice και όπου δεν υπάρχει μια εκ των δυο υπολογίζεται.\n"
   ]
  },
  {
   "cell_type": "markdown",
   "metadata": {},
   "source": [
    "Μέθοδος δημιουργίας golden standard δωσμένου μιας λίστας ενος χρήστη και την λίστα με τις λίστες όλων των χρηστών."
   ]
  },
  {
   "cell_type": "code",
   "execution_count": 115,
   "metadata": {},
   "outputs": [],
   "source": [
    "def make_golden_standard(recommended_books1,recommended_books2,user_id):\n",
    "    # change name to similarity to \n",
    "    golden_standard = pd.merge(recommended_books1, recommended_books2, on = ['ISBN','Book-Title'], how = 'outer')\n",
    "    golden_standard['counts'] = None \n",
    "    \n",
    "    user_profile = make_user_profile(user_id)\n",
    "    \n",
    "    # check if has only jaccard or dice similarity or both ,update accordingly the counts and the similarities \n",
    "    for index,book in golden_standard.iterrows():\n",
    "        if pd.isna(book['Jaccard-Similarity'])  : \n",
    "            golden_standard.at[index,'counts'] = 1\n",
    "            golden_standard.at[index,'Jaccard-Similarity'] = calc_similarity(user_profile,books.set_index('ISBN').loc[book['ISBN']],1)\n",
    "        elif pd.isna(book['Dice-Similarity'])  : \n",
    "            golden_standard.at[index,'counts'] = 1\n",
    "            golden_standard.at[index,'Dice-Similarity'] = calc_similarity(user_profile,books.set_index('ISBN').loc[book['ISBN']],2)\n",
    "        else:\n",
    "            golden_standard.at[index,'counts'] = 2\n",
    "   \n",
    "    # calculate weighted similarity \n",
    "    golden_standard['Weighted-Similarity'] =  (golden_standard['Dice-Similarity'] + golden_standard['Jaccard-Similarity'])/2\n",
    "    golden_standard.sort_values(by=['counts','Weighted-Similarity'],ascending=False,inplace=True)\n",
    "    \n",
    "    #save golden standard \n",
    "    golden_standard.to_csv('golden' + str(user_id) +'.csv',index= None,encoding='cp437')\n",
    "    \n",
    "    return golden_standard"
   ]
  },
  {
   "cell_type": "markdown",
   "metadata": {},
   "source": [
    "Eπανάλάψη του βήματος 2 συγκρίνει όμως κάθε λίστα\n",
    "με την golden_standard που παράχθηκε (μέχρι το 10 της στοιχείο)."
   ]
  },
  {
   "cell_type": "code",
   "execution_count": 120,
   "metadata": {},
   "outputs": [
    {
     "name": "stdout",
     "output_type": "stream",
     "text": [
      "Weighted_Overlaps(Jaccard-Golden)\n",
      "User:  101381   1.0\n",
      "User:  226743   0.9888888888888889\n",
      "User:  271538   1.0\n",
      "User:  162626   1.0\n",
      "User:  102702   1.0\n",
      "\n",
      "Weighted_Overlaps(Dice-Golden)\n",
      "User:  101381   1.0\n",
      "User:  226743   0.9757142857142858\n",
      "User:  271538   1.0\n",
      "User:  162626   0.9746031746031745\n",
      "User:  102702   0.975\n"
     ]
    }
   ],
   "source": [
    "# make golden standard for every user and calculate weighted overlap  \n",
    "weighted_overlaps1 = [] \n",
    "weighted_overlaps2 = [] \n",
    "for i in range(5):    \n",
    "    golden_standard = make_golden_standard(recommended_books1_list[i],recommended_books2_list[i],int(sampled_users[i]))\n",
    "    # weighted overlap for first list \n",
    "    weighted_overlap = calc_weighted_overlap(golden_standard.head(10),recommended_books1_list[i])\n",
    "    weighted_overlaps1.append(weighted_overlap)\n",
    "    \n",
    "    # weighted overlap for second list\n",
    "    weighted_overlap = calc_weighted_overlap(golden_standard.head(10),recommended_books2_list[i])\n",
    "    weighted_overlaps2.append(weighted_overlap)\n",
    "    \n",
    "print('Weighted_Overlaps(Jaccard-Golden)')\n",
    "for i in range(5):\n",
    "    print('User: ',sampled_users[i],\" \",weighted_overlaps1[i])\n",
    "    \n",
    "print('\\nWeighted_Overlaps(Dice-Golden)')\n",
    "for i in range(5):\n",
    "    print('User: ',sampled_users[i],\" \",weighted_overlaps2[i])"
   ]
  },
  {
   "cell_type": "code",
   "execution_count": 109,
   "metadata": {},
   "outputs": [
    {
     "data": {
      "text/plain": [
       "0.0"
      ]
     },
     "execution_count": 109,
     "metadata": {},
     "output_type": "execute_result"
    }
   ],
   "source": [
    "prof = make_user_profile(int(sampled_users[4]))\n",
    "overlap(prof[3]['ISBN'],recommended_books1_list[4]['ISBN'])"
   ]
  },
  {
   "cell_type": "code",
   "execution_count": 110,
   "metadata": {},
   "outputs": [
    {
     "data": {
      "text/plain": [
       "(['harri',\n",
       "  'potter',\n",
       "  'sorcer',\n",
       "  'stone',\n",
       "  'harri',\n",
       "  'potter',\n",
       "  'paperback',\n",
       "  'harri',\n",
       "  'potter',\n",
       "  'chamber',\n",
       "  'secret',\n",
       "  'book',\n",
       "  '2',\n",
       "  'deep',\n",
       "  'midnight'],\n",
       " ['j. k. rowling', 'j. k. rowling', 'shannon drake'],\n",
       " ['1999', '1999', '2001'],\n",
       "            ISBN  Book-Rating\n",
       " 0    0446605484            0\n",
       " 1    0312974485            0\n",
       " 2    0446608955            8\n",
       " 3    059035342X           10\n",
       " 4    0440213525            0\n",
       " ..          ...          ...\n",
       " 165  0758205481           10\n",
       " 166  0373273134           10\n",
       " 167  084394952X           10\n",
       " 168  0821758578           10\n",
       " 169  050552113X           10\n",
       " \n",
       " [170 rows x 2 columns])"
      ]
     },
     "execution_count": 110,
     "metadata": {},
     "output_type": "execute_result"
    }
   ],
   "source": [
    "prof"
   ]
  },
  {
   "cell_type": "code",
   "execution_count": 118,
   "metadata": {},
   "outputs": [
    {
     "data": {
      "text/html": [
       "<div>\n",
       "<style scoped>\n",
       "    .dataframe tbody tr th:only-of-type {\n",
       "        vertical-align: middle;\n",
       "    }\n",
       "\n",
       "    .dataframe tbody tr th {\n",
       "        vertical-align: top;\n",
       "    }\n",
       "\n",
       "    .dataframe thead th {\n",
       "        text-align: right;\n",
       "    }\n",
       "</style>\n",
       "<table border=\"1\" class=\"dataframe\">\n",
       "  <thead>\n",
       "    <tr style=\"text-align: right;\">\n",
       "      <th></th>\n",
       "      <th>ISBN</th>\n",
       "      <th>Jaccard-Similarity</th>\n",
       "      <th>Book-Title</th>\n",
       "    </tr>\n",
       "  </thead>\n",
       "  <tbody>\n",
       "    <tr>\n",
       "      <td>0</td>\n",
       "      <td>0385335482</td>\n",
       "      <td>0.856943</td>\n",
       "      <td>Confessions of a Shopaholic (Summer Display Op...</td>\n",
       "    </tr>\n",
       "    <tr>\n",
       "      <td>1</td>\n",
       "      <td>0440241812</td>\n",
       "      <td>0.845555</td>\n",
       "      <td>Shopaholic Takes Manhattan</td>\n",
       "    </tr>\n",
       "    <tr>\n",
       "      <td>2</td>\n",
       "      <td>0446530522</td>\n",
       "      <td>0.830570</td>\n",
       "      <td>Cane River</td>\n",
       "    </tr>\n",
       "    <tr>\n",
       "      <td>3</td>\n",
       "      <td>0446525502</td>\n",
       "      <td>0.814986</td>\n",
       "      <td>The Rescue</td>\n",
       "    </tr>\n",
       "    <tr>\n",
       "      <td>4</td>\n",
       "      <td>0440241413</td>\n",
       "      <td>0.813887</td>\n",
       "      <td>Confessions of a Shopaholic</td>\n",
       "    </tr>\n",
       "    <tr>\n",
       "      <td>5</td>\n",
       "      <td>0385336179</td>\n",
       "      <td>0.812934</td>\n",
       "      <td>Shopaholic Ties the Knot</td>\n",
       "    </tr>\n",
       "    <tr>\n",
       "      <td>6</td>\n",
       "      <td>0446527785</td>\n",
       "      <td>0.799800</td>\n",
       "      <td>A Bend in the Road</td>\n",
       "    </tr>\n",
       "    <tr>\n",
       "      <td>7</td>\n",
       "      <td>0446611867</td>\n",
       "      <td>0.799800</td>\n",
       "      <td>A Bend in the Road</td>\n",
       "    </tr>\n",
       "    <tr>\n",
       "      <td>8</td>\n",
       "      <td>0446691798</td>\n",
       "      <td>0.799601</td>\n",
       "      <td>Nights in Rodanthe</td>\n",
       "    </tr>\n",
       "    <tr>\n",
       "      <td>9</td>\n",
       "      <td>0446608955</td>\n",
       "      <td>0.799601</td>\n",
       "      <td>A Walk to Remember</td>\n",
       "    </tr>\n",
       "  </tbody>\n",
       "</table>\n",
       "</div>"
      ],
      "text/plain": [
       "         ISBN  Jaccard-Similarity  \\\n",
       "0  0385335482            0.856943   \n",
       "1  0440241812            0.845555   \n",
       "2  0446530522            0.830570   \n",
       "3  0446525502            0.814986   \n",
       "4  0440241413            0.813887   \n",
       "5  0385336179            0.812934   \n",
       "6  0446527785            0.799800   \n",
       "7  0446611867            0.799800   \n",
       "8  0446691798            0.799601   \n",
       "9  0446608955            0.799601   \n",
       "\n",
       "                                          Book-Title  \n",
       "0  Confessions of a Shopaholic (Summer Display Op...  \n",
       "1                         Shopaholic Takes Manhattan  \n",
       "2                                         Cane River  \n",
       "3                                         The Rescue  \n",
       "4                        Confessions of a Shopaholic  \n",
       "5                           Shopaholic Ties the Knot  \n",
       "6                                 A Bend in the Road  \n",
       "7                                 A Bend in the Road  \n",
       "8                                 Nights in Rodanthe  \n",
       "9                                 A Walk to Remember  "
      ]
     },
     "execution_count": 118,
     "metadata": {},
     "output_type": "execute_result"
    }
   ],
   "source": [
    "recommended_books1_list[1]"
   ]
  },
  {
   "cell_type": "code",
   "execution_count": 117,
   "metadata": {},
   "outputs": [
    {
     "data": {
      "text/html": [
       "<div>\n",
       "<style scoped>\n",
       "    .dataframe tbody tr th:only-of-type {\n",
       "        vertical-align: middle;\n",
       "    }\n",
       "\n",
       "    .dataframe tbody tr th {\n",
       "        vertical-align: top;\n",
       "    }\n",
       "\n",
       "    .dataframe thead th {\n",
       "        text-align: right;\n",
       "    }\n",
       "</style>\n",
       "<table border=\"1\" class=\"dataframe\">\n",
       "  <thead>\n",
       "    <tr style=\"text-align: right;\">\n",
       "      <th></th>\n",
       "      <th>ISBN</th>\n",
       "      <th>Dice-Similarity</th>\n",
       "      <th>Book-Title</th>\n",
       "    </tr>\n",
       "  </thead>\n",
       "  <tbody>\n",
       "    <tr>\n",
       "      <td>0</td>\n",
       "      <td>0385335482</td>\n",
       "      <td>0.722122</td>\n",
       "      <td>Confessions of a Shopaholic (Summer Display Op...</td>\n",
       "    </tr>\n",
       "    <tr>\n",
       "      <td>1</td>\n",
       "      <td>0440241812</td>\n",
       "      <td>0.687201</td>\n",
       "      <td>Shopaholic Takes Manhattan</td>\n",
       "    </tr>\n",
       "    <tr>\n",
       "      <td>2</td>\n",
       "      <td>0446530522</td>\n",
       "      <td>0.633234</td>\n",
       "      <td>Cane River</td>\n",
       "    </tr>\n",
       "    <tr>\n",
       "      <td>3</td>\n",
       "      <td>0446525502</td>\n",
       "      <td>0.571229</td>\n",
       "      <td>The Rescue</td>\n",
       "    </tr>\n",
       "    <tr>\n",
       "      <td>4</td>\n",
       "      <td>0440241413</td>\n",
       "      <td>0.566467</td>\n",
       "      <td>Confessions of a Shopaholic</td>\n",
       "    </tr>\n",
       "    <tr>\n",
       "      <td>5</td>\n",
       "      <td>0385336179</td>\n",
       "      <td>0.562300</td>\n",
       "      <td>Shopaholic Ties the Knot</td>\n",
       "    </tr>\n",
       "    <tr>\n",
       "      <td>6</td>\n",
       "      <td>0446611867</td>\n",
       "      <td>0.499900</td>\n",
       "      <td>A Bend in the Road</td>\n",
       "    </tr>\n",
       "    <tr>\n",
       "      <td>7</td>\n",
       "      <td>0446527785</td>\n",
       "      <td>0.499900</td>\n",
       "      <td>A Bend in the Road</td>\n",
       "    </tr>\n",
       "    <tr>\n",
       "      <td>8</td>\n",
       "      <td>0446608955</td>\n",
       "      <td>0.499800</td>\n",
       "      <td>A Walk to Remember</td>\n",
       "    </tr>\n",
       "    <tr>\n",
       "      <td>9</td>\n",
       "      <td>0446532452</td>\n",
       "      <td>0.499800</td>\n",
       "      <td>The Wedding</td>\n",
       "    </tr>\n",
       "  </tbody>\n",
       "</table>\n",
       "</div>"
      ],
      "text/plain": [
       "         ISBN  Dice-Similarity  \\\n",
       "0  0385335482         0.722122   \n",
       "1  0440241812         0.687201   \n",
       "2  0446530522         0.633234   \n",
       "3  0446525502         0.571229   \n",
       "4  0440241413         0.566467   \n",
       "5  0385336179         0.562300   \n",
       "6  0446611867         0.499900   \n",
       "7  0446527785         0.499900   \n",
       "8  0446608955         0.499800   \n",
       "9  0446532452         0.499800   \n",
       "\n",
       "                                          Book-Title  \n",
       "0  Confessions of a Shopaholic (Summer Display Op...  \n",
       "1                         Shopaholic Takes Manhattan  \n",
       "2                                         Cane River  \n",
       "3                                         The Rescue  \n",
       "4                        Confessions of a Shopaholic  \n",
       "5                           Shopaholic Ties the Knot  \n",
       "6                                 A Bend in the Road  \n",
       "7                                 A Bend in the Road  \n",
       "8                                 A Walk to Remember  \n",
       "9                                        The Wedding  "
      ]
     },
     "execution_count": 117,
     "metadata": {},
     "output_type": "execute_result"
    }
   ],
   "source": [
    "recommended_books2_list[1]"
   ]
  },
  {
   "cell_type": "code",
   "execution_count": null,
   "metadata": {},
   "outputs": [],
   "source": []
  }
 ],
 "metadata": {
  "kernelspec": {
   "display_name": "Python 3",
   "language": "python",
   "name": "python3"
  },
  "language_info": {
   "codemirror_mode": {
    "name": "ipython",
    "version": 3
   },
   "file_extension": ".py",
   "mimetype": "text/x-python",
   "name": "python",
   "nbconvert_exporter": "python",
   "pygments_lexer": "ipython3",
   "version": "3.7.4"
  }
 },
 "nbformat": 4,
 "nbformat_minor": 2
}
